{
  "nbformat": 4,
  "nbformat_minor": 0,
  "metadata": {
    "colab": {
      "provenance": []
    },
    "kernelspec": {
      "name": "ir",
      "display_name": "R"
    },
    "language_info": {
      "name": "R"
    }
  },
  "cells": [
    {
      "cell_type": "markdown",
      "source": [
        "ok, your first job is to install and load the packages that we will need today\n",
        "run the following code by highlighting the line below, and pressing \"Run\" (the little \"play\" key to the left of the code)"
      ],
      "metadata": {
        "id": "Vpz3Zi6VokIG"
      }
    },
    {
      "cell_type": "code",
      "source": [
        "install.packages(\"RCurl\")"
      ],
      "metadata": {
        "colab": {
          "base_uri": "https://localhost:8080/"
        },
        "id": "ZTcyNvuasd9a",
        "outputId": "3cb4ecbc-861e-4e4f-b383-626e4df1cfce"
      },
      "execution_count": null,
      "outputs": [
        {
          "output_type": "stream",
          "name": "stderr",
          "text": [
            "Installing package into ‘/usr/local/lib/R/site-library’\n",
            "(as ‘lib’ is unspecified)\n",
            "\n"
          ]
        }
      ]
    },
    {
      "cell_type": "code",
      "execution_count": null,
      "metadata": {
        "id": "HRjJY3UOoYJV"
      },
      "outputs": [],
      "source": [
        "# this will load a packages that we will be using for this tutorial. The command\n",
        "# library() loads the packages that are available in your R environment\n",
        "\n",
        "library(\"tidyverse\") # for dataset manipulation/organization\n",
        "library(\"RCurl\") # to read files off of GitHub"
      ]
    },
    {
      "cell_type": "markdown",
      "source": [
        "next, we will get used to how to use R, and see some basic types of variables"
      ],
      "metadata": {
        "id": "fmJewTcmpkBV"
      }
    },
    {
      "cell_type": "code",
      "source": [
        "# here, I am creating three different numeric variables, x, y, and z\n",
        "\n",
        "x <- 7\n",
        "y <- 14\n",
        "z <- x + y"
      ],
      "metadata": {
        "id": "ikqtyDLmpsbK"
      },
      "execution_count": null,
      "outputs": []
    },
    {
      "cell_type": "markdown",
      "source": [
        "Now that these variables exist, we can view them and play around with them"
      ],
      "metadata": {
        "id": "mwJuCN_BqbX3"
      }
    },
    {
      "cell_type": "code",
      "source": [
        "x"
      ],
      "metadata": {
        "colab": {
          "base_uri": "https://localhost:8080/",
          "height": 34
        },
        "id": "YBY1sZjwqkvg",
        "outputId": "0275a851-b4e9-477a-ccc4-6a4258ac83f5"
      },
      "execution_count": null,
      "outputs": [
        {
          "output_type": "display_data",
          "data": {
            "text/html": [
              "7"
            ],
            "text/markdown": "7",
            "text/latex": "7",
            "text/plain": [
              "[1] 7"
            ]
          },
          "metadata": {}
        }
      ]
    },
    {
      "cell_type": "code",
      "source": [
        "y"
      ],
      "metadata": {
        "colab": {
          "base_uri": "https://localhost:8080/",
          "height": 34
        },
        "id": "qP-tPPGiqqmr",
        "outputId": "e9c2ace1-777e-4647-94d3-7c0d389288d9"
      },
      "execution_count": null,
      "outputs": [
        {
          "output_type": "display_data",
          "data": {
            "text/html": [
              "14"
            ],
            "text/markdown": "14",
            "text/latex": "14",
            "text/plain": [
              "[1] 14"
            ]
          },
          "metadata": {}
        }
      ]
    },
    {
      "cell_type": "code",
      "source": [
        "x * z"
      ],
      "metadata": {
        "colab": {
          "base_uri": "https://localhost:8080/",
          "height": 34
        },
        "id": "y-gIp6n6qsiI",
        "outputId": "ffe59c41-2b7b-463e-973e-e5b9674be623"
      },
      "execution_count": null,
      "outputs": [
        {
          "output_type": "display_data",
          "data": {
            "text/html": [
              "147"
            ],
            "text/markdown": "147",
            "text/latex": "147",
            "text/plain": [
              "[1] 147"
            ]
          },
          "metadata": {}
        }
      ]
    },
    {
      "cell_type": "markdown",
      "source": [
        "However, numeric variables aren't the only types of variables that can \"live\" in the R environment. We can also create and work with \"character\" variables (or variables composed of letters/symbols) and variables called \"booleans\" which is a binary variable that can take on the values of \"true\" or \"false\""
      ],
      "metadata": {
        "id": "O7Qg5-Iaq0h9"
      }
    },
    {
      "cell_type": "code",
      "source": [
        "best_dog <- \"Frank\" # this will create a character variable\n",
        "also_best_dog <- \"Smalls\"\n",
        "g <- x == 8 # this will create a boolean"
      ],
      "metadata": {
        "id": "253taGserNG-"
      },
      "execution_count": null,
      "outputs": []
    },
    {
      "cell_type": "code",
      "source": [
        "best_dog"
      ],
      "metadata": {
        "colab": {
          "base_uri": "https://localhost:8080/",
          "height": 34
        },
        "id": "_JpAdiKSrfHU",
        "outputId": "93419d9e-17f7-4a46-ffc8-1af8e5b19ce0"
      },
      "execution_count": null,
      "outputs": [
        {
          "output_type": "display_data",
          "data": {
            "text/html": [
              "'Frank'"
            ],
            "text/markdown": "'Frank'",
            "text/latex": "'Frank'",
            "text/plain": [
              "[1] \"Frank\""
            ]
          },
          "metadata": {}
        }
      ]
    },
    {
      "cell_type": "code",
      "source": [
        "also_best_dog"
      ],
      "metadata": {
        "colab": {
          "base_uri": "https://localhost:8080/",
          "height": 34
        },
        "id": "C7kbyzj_rhLg",
        "outputId": "a7a4d0f9-fd3f-4267-e238-fb065fc93e40"
      },
      "execution_count": null,
      "outputs": [
        {
          "output_type": "display_data",
          "data": {
            "text/html": [
              "'Smalls'"
            ],
            "text/markdown": "'Smalls'",
            "text/latex": "'Smalls'",
            "text/plain": [
              "[1] \"Smalls\""
            ]
          },
          "metadata": {}
        }
      ]
    },
    {
      "cell_type": "code",
      "source": [
        "g"
      ],
      "metadata": {
        "colab": {
          "base_uri": "https://localhost:8080/",
          "height": 34
        },
        "id": "e7JrjZyWrirV",
        "outputId": "2852f413-f671-4251-89c4-c6caf8a56171"
      },
      "execution_count": null,
      "outputs": [
        {
          "output_type": "display_data",
          "data": {
            "text/html": [
              "FALSE"
            ],
            "text/markdown": "FALSE",
            "text/latex": "FALSE",
            "text/plain": [
              "[1] FALSE"
            ]
          },
          "metadata": {}
        }
      ]
    },
    {
      "cell_type": "markdown",
      "source": [
        "ok, now let's load in some data -- we'll be loading in something called a\n",
        "csv (comma-separated values) file -- you can read more about this dataset\n",
        "here: https://www.kaggle.com/datasets/unsdsn/world-happiness"
      ],
      "metadata": {
        "id": "gWPopnUQrsdD"
      }
    },
    {
      "cell_type": "code",
      "source": [
        "happy_dat <- getURL(\"https://raw.githubusercontent.com/chelsea-helion/bridge_coding/main/world_happiness_2016.csv\")\n",
        "happy_dat <- read.csv(text = happy_dat)"
      ],
      "metadata": {
        "id": "wH3xi7ogrv-Q"
      },
      "execution_count": null,
      "outputs": []
    },
    {
      "cell_type": "markdown",
      "source": [
        "let's view the top few rows to see what we are working with"
      ],
      "metadata": {
        "id": "45Ja324dsxaE"
      }
    },
    {
      "cell_type": "code",
      "source": [
        "head(happy_dat, 15)"
      ],
      "metadata": {
        "colab": {
          "base_uri": "https://localhost:8080/",
          "height": 673
        },
        "id": "BEpLzMGvuMZX",
        "outputId": "06e313df-623b-4731-cb3c-c252b6509979"
      },
      "execution_count": null,
      "outputs": [
        {
          "output_type": "display_data",
          "data": {
            "text/html": [
              "<table class=\"dataframe\">\n",
              "<caption>A data.frame: 15 × 10</caption>\n",
              "<thead>\n",
              "\t<tr><th></th><th scope=col>Country</th><th scope=col>Region</th><th scope=col>Happiness_Rank</th><th scope=col>Happiness_Score</th><th scope=col>Economy_GDP_per_Capita</th><th scope=col>Family</th><th scope=col>Health_Life_Expectancy</th><th scope=col>Freedom</th><th scope=col>Trust_Government_Corruption</th><th scope=col>Generosity</th></tr>\n",
              "\t<tr><th></th><th scope=col>&lt;chr&gt;</th><th scope=col>&lt;chr&gt;</th><th scope=col>&lt;int&gt;</th><th scope=col>&lt;dbl&gt;</th><th scope=col>&lt;dbl&gt;</th><th scope=col>&lt;dbl&gt;</th><th scope=col>&lt;dbl&gt;</th><th scope=col>&lt;dbl&gt;</th><th scope=col>&lt;dbl&gt;</th><th scope=col>&lt;dbl&gt;</th></tr>\n",
              "</thead>\n",
              "<tbody>\n",
              "\t<tr><th scope=row>1</th><td>Denmark      </td><td>Western Europe                 </td><td> 1</td><td>7.526</td><td>1.44178</td><td>1.16374</td><td>0.79504</td><td>0.57941</td><td>0.44453</td><td>0.36171</td></tr>\n",
              "\t<tr><th scope=row>2</th><td>Switzerland  </td><td>Western Europe                 </td><td> 2</td><td>7.509</td><td>1.52733</td><td>1.14524</td><td>0.86303</td><td>0.58557</td><td>0.41203</td><td>0.28083</td></tr>\n",
              "\t<tr><th scope=row>3</th><td>Iceland      </td><td>Western Europe                 </td><td> 3</td><td>7.501</td><td>1.42666</td><td>1.18326</td><td>0.86733</td><td>0.56624</td><td>0.14975</td><td>0.47678</td></tr>\n",
              "\t<tr><th scope=row>4</th><td>Norway       </td><td>Western Europe                 </td><td> 4</td><td>7.498</td><td>1.57744</td><td>1.12690</td><td>0.79579</td><td>0.59609</td><td>0.35776</td><td>0.37895</td></tr>\n",
              "\t<tr><th scope=row>5</th><td>Finland      </td><td>Western Europe                 </td><td> 5</td><td>7.413</td><td>1.40598</td><td>1.13464</td><td>0.81091</td><td>0.57104</td><td>0.41004</td><td>0.25492</td></tr>\n",
              "\t<tr><th scope=row>6</th><td>Canada       </td><td>North America                  </td><td> 6</td><td>7.404</td><td>1.44015</td><td>1.09610</td><td>0.82760</td><td>0.57370</td><td>0.31329</td><td>0.44834</td></tr>\n",
              "\t<tr><th scope=row>7</th><td>Netherlands  </td><td>Western Europe                 </td><td> 7</td><td>7.339</td><td>1.46468</td><td>1.02912</td><td>0.81231</td><td>0.55211</td><td>0.29927</td><td>0.47416</td></tr>\n",
              "\t<tr><th scope=row>8</th><td>New Zealand  </td><td>Australia and New Zealand      </td><td> 8</td><td>7.334</td><td>1.36066</td><td>1.17278</td><td>0.83096</td><td>0.58147</td><td>0.41904</td><td>0.49401</td></tr>\n",
              "\t<tr><th scope=row>9</th><td>Australia    </td><td>Australia and New Zealand      </td><td> 9</td><td>7.313</td><td>1.44443</td><td>1.10476</td><td>0.85120</td><td>0.56837</td><td>0.32331</td><td>0.47407</td></tr>\n",
              "\t<tr><th scope=row>10</th><td>Sweden       </td><td>Western Europe                 </td><td>10</td><td>7.291</td><td>1.45181</td><td>1.08764</td><td>0.83121</td><td>0.58218</td><td>0.40867</td><td>0.38254</td></tr>\n",
              "\t<tr><th scope=row>11</th><td>Israel       </td><td>Middle East and Northern Africa</td><td>11</td><td>7.267</td><td>1.33766</td><td>0.99537</td><td>0.84917</td><td>0.36432</td><td>0.08728</td><td>0.32288</td></tr>\n",
              "\t<tr><th scope=row>12</th><td>Austria      </td><td>Western Europe                 </td><td>12</td><td>7.119</td><td>1.45038</td><td>1.08383</td><td>0.80565</td><td>0.54355</td><td>0.21348</td><td>0.32865</td></tr>\n",
              "\t<tr><th scope=row>13</th><td>United States</td><td>North America                  </td><td>13</td><td>7.104</td><td>1.50796</td><td>1.04782</td><td>0.77900</td><td>0.48163</td><td>0.14868</td><td>0.41077</td></tr>\n",
              "\t<tr><th scope=row>14</th><td>Costa Rica   </td><td>Latin America and Caribbean    </td><td>14</td><td>7.087</td><td>1.06879</td><td>1.02152</td><td>0.76146</td><td>0.55225</td><td>0.10547</td><td>0.22553</td></tr>\n",
              "\t<tr><th scope=row>15</th><td>Puerto Rico  </td><td>Latin America and Caribbean    </td><td>15</td><td>7.039</td><td>1.35943</td><td>1.08113</td><td>0.77758</td><td>0.46823</td><td>0.12275</td><td>0.22202</td></tr>\n",
              "</tbody>\n",
              "</table>\n"
            ],
            "text/markdown": "\nA data.frame: 15 × 10\n\n| <!--/--> | Country &lt;chr&gt; | Region &lt;chr&gt; | Happiness_Rank &lt;int&gt; | Happiness_Score &lt;dbl&gt; | Economy_GDP_per_Capita &lt;dbl&gt; | Family &lt;dbl&gt; | Health_Life_Expectancy &lt;dbl&gt; | Freedom &lt;dbl&gt; | Trust_Government_Corruption &lt;dbl&gt; | Generosity &lt;dbl&gt; |\n|---|---|---|---|---|---|---|---|---|---|---|\n| 1 | Denmark       | Western Europe                  |  1 | 7.526 | 1.44178 | 1.16374 | 0.79504 | 0.57941 | 0.44453 | 0.36171 |\n| 2 | Switzerland   | Western Europe                  |  2 | 7.509 | 1.52733 | 1.14524 | 0.86303 | 0.58557 | 0.41203 | 0.28083 |\n| 3 | Iceland       | Western Europe                  |  3 | 7.501 | 1.42666 | 1.18326 | 0.86733 | 0.56624 | 0.14975 | 0.47678 |\n| 4 | Norway        | Western Europe                  |  4 | 7.498 | 1.57744 | 1.12690 | 0.79579 | 0.59609 | 0.35776 | 0.37895 |\n| 5 | Finland       | Western Europe                  |  5 | 7.413 | 1.40598 | 1.13464 | 0.81091 | 0.57104 | 0.41004 | 0.25492 |\n| 6 | Canada        | North America                   |  6 | 7.404 | 1.44015 | 1.09610 | 0.82760 | 0.57370 | 0.31329 | 0.44834 |\n| 7 | Netherlands   | Western Europe                  |  7 | 7.339 | 1.46468 | 1.02912 | 0.81231 | 0.55211 | 0.29927 | 0.47416 |\n| 8 | New Zealand   | Australia and New Zealand       |  8 | 7.334 | 1.36066 | 1.17278 | 0.83096 | 0.58147 | 0.41904 | 0.49401 |\n| 9 | Australia     | Australia and New Zealand       |  9 | 7.313 | 1.44443 | 1.10476 | 0.85120 | 0.56837 | 0.32331 | 0.47407 |\n| 10 | Sweden        | Western Europe                  | 10 | 7.291 | 1.45181 | 1.08764 | 0.83121 | 0.58218 | 0.40867 | 0.38254 |\n| 11 | Israel        | Middle East and Northern Africa | 11 | 7.267 | 1.33766 | 0.99537 | 0.84917 | 0.36432 | 0.08728 | 0.32288 |\n| 12 | Austria       | Western Europe                  | 12 | 7.119 | 1.45038 | 1.08383 | 0.80565 | 0.54355 | 0.21348 | 0.32865 |\n| 13 | United States | North America                   | 13 | 7.104 | 1.50796 | 1.04782 | 0.77900 | 0.48163 | 0.14868 | 0.41077 |\n| 14 | Costa Rica    | Latin America and Caribbean     | 14 | 7.087 | 1.06879 | 1.02152 | 0.76146 | 0.55225 | 0.10547 | 0.22553 |\n| 15 | Puerto Rico   | Latin America and Caribbean     | 15 | 7.039 | 1.35943 | 1.08113 | 0.77758 | 0.46823 | 0.12275 | 0.22202 |\n\n",
            "text/latex": "A data.frame: 15 × 10\n\\begin{tabular}{r|llllllllll}\n  & Country & Region & Happiness\\_Rank & Happiness\\_Score & Economy\\_GDP\\_per\\_Capita & Family & Health\\_Life\\_Expectancy & Freedom & Trust\\_Government\\_Corruption & Generosity\\\\\n  & <chr> & <chr> & <int> & <dbl> & <dbl> & <dbl> & <dbl> & <dbl> & <dbl> & <dbl>\\\\\n\\hline\n\t1 & Denmark       & Western Europe                  &  1 & 7.526 & 1.44178 & 1.16374 & 0.79504 & 0.57941 & 0.44453 & 0.36171\\\\\n\t2 & Switzerland   & Western Europe                  &  2 & 7.509 & 1.52733 & 1.14524 & 0.86303 & 0.58557 & 0.41203 & 0.28083\\\\\n\t3 & Iceland       & Western Europe                  &  3 & 7.501 & 1.42666 & 1.18326 & 0.86733 & 0.56624 & 0.14975 & 0.47678\\\\\n\t4 & Norway        & Western Europe                  &  4 & 7.498 & 1.57744 & 1.12690 & 0.79579 & 0.59609 & 0.35776 & 0.37895\\\\\n\t5 & Finland       & Western Europe                  &  5 & 7.413 & 1.40598 & 1.13464 & 0.81091 & 0.57104 & 0.41004 & 0.25492\\\\\n\t6 & Canada        & North America                   &  6 & 7.404 & 1.44015 & 1.09610 & 0.82760 & 0.57370 & 0.31329 & 0.44834\\\\\n\t7 & Netherlands   & Western Europe                  &  7 & 7.339 & 1.46468 & 1.02912 & 0.81231 & 0.55211 & 0.29927 & 0.47416\\\\\n\t8 & New Zealand   & Australia and New Zealand       &  8 & 7.334 & 1.36066 & 1.17278 & 0.83096 & 0.58147 & 0.41904 & 0.49401\\\\\n\t9 & Australia     & Australia and New Zealand       &  9 & 7.313 & 1.44443 & 1.10476 & 0.85120 & 0.56837 & 0.32331 & 0.47407\\\\\n\t10 & Sweden        & Western Europe                  & 10 & 7.291 & 1.45181 & 1.08764 & 0.83121 & 0.58218 & 0.40867 & 0.38254\\\\\n\t11 & Israel        & Middle East and Northern Africa & 11 & 7.267 & 1.33766 & 0.99537 & 0.84917 & 0.36432 & 0.08728 & 0.32288\\\\\n\t12 & Austria       & Western Europe                  & 12 & 7.119 & 1.45038 & 1.08383 & 0.80565 & 0.54355 & 0.21348 & 0.32865\\\\\n\t13 & United States & North America                   & 13 & 7.104 & 1.50796 & 1.04782 & 0.77900 & 0.48163 & 0.14868 & 0.41077\\\\\n\t14 & Costa Rica    & Latin America and Caribbean     & 14 & 7.087 & 1.06879 & 1.02152 & 0.76146 & 0.55225 & 0.10547 & 0.22553\\\\\n\t15 & Puerto Rico   & Latin America and Caribbean     & 15 & 7.039 & 1.35943 & 1.08113 & 0.77758 & 0.46823 & 0.12275 & 0.22202\\\\\n\\end{tabular}\n",
            "text/plain": [
              "   Country       Region                          Happiness_Rank Happiness_Score\n",
              "1  Denmark       Western Europe                   1             7.526          \n",
              "2  Switzerland   Western Europe                   2             7.509          \n",
              "3  Iceland       Western Europe                   3             7.501          \n",
              "4  Norway        Western Europe                   4             7.498          \n",
              "5  Finland       Western Europe                   5             7.413          \n",
              "6  Canada        North America                    6             7.404          \n",
              "7  Netherlands   Western Europe                   7             7.339          \n",
              "8  New Zealand   Australia and New Zealand        8             7.334          \n",
              "9  Australia     Australia and New Zealand        9             7.313          \n",
              "10 Sweden        Western Europe                  10             7.291          \n",
              "11 Israel        Middle East and Northern Africa 11             7.267          \n",
              "12 Austria       Western Europe                  12             7.119          \n",
              "13 United States North America                   13             7.104          \n",
              "14 Costa Rica    Latin America and Caribbean     14             7.087          \n",
              "15 Puerto Rico   Latin America and Caribbean     15             7.039          \n",
              "   Economy_GDP_per_Capita Family  Health_Life_Expectancy Freedom\n",
              "1  1.44178                1.16374 0.79504                0.57941\n",
              "2  1.52733                1.14524 0.86303                0.58557\n",
              "3  1.42666                1.18326 0.86733                0.56624\n",
              "4  1.57744                1.12690 0.79579                0.59609\n",
              "5  1.40598                1.13464 0.81091                0.57104\n",
              "6  1.44015                1.09610 0.82760                0.57370\n",
              "7  1.46468                1.02912 0.81231                0.55211\n",
              "8  1.36066                1.17278 0.83096                0.58147\n",
              "9  1.44443                1.10476 0.85120                0.56837\n",
              "10 1.45181                1.08764 0.83121                0.58218\n",
              "11 1.33766                0.99537 0.84917                0.36432\n",
              "12 1.45038                1.08383 0.80565                0.54355\n",
              "13 1.50796                1.04782 0.77900                0.48163\n",
              "14 1.06879                1.02152 0.76146                0.55225\n",
              "15 1.35943                1.08113 0.77758                0.46823\n",
              "   Trust_Government_Corruption Generosity\n",
              "1  0.44453                     0.36171   \n",
              "2  0.41203                     0.28083   \n",
              "3  0.14975                     0.47678   \n",
              "4  0.35776                     0.37895   \n",
              "5  0.41004                     0.25492   \n",
              "6  0.31329                     0.44834   \n",
              "7  0.29927                     0.47416   \n",
              "8  0.41904                     0.49401   \n",
              "9  0.32331                     0.47407   \n",
              "10 0.40867                     0.38254   \n",
              "11 0.08728                     0.32288   \n",
              "12 0.21348                     0.32865   \n",
              "13 0.14868                     0.41077   \n",
              "14 0.10547                     0.22553   \n",
              "15 0.12275                     0.22202   "
            ]
          },
          "metadata": {}
        }
      ]
    },
    {
      "cell_type": "markdown",
      "source": [
        "The terms under the variable names (e.g., <chr>, <int>) tell us what type of variables that we are working with. In this case, I don't really want to deal with characters for \"Region\", instead, I want R to know that all observations/rows that share the same values (e.g. \"Latin America and Caribbean\") belong to the same family. To do this, I will make that variable something called a \"factor\"."
      ],
      "metadata": {
        "id": "AB7P7FzsyYnf"
      }
    },
    {
      "cell_type": "code",
      "source": [
        "happy_dat$Region <- as.factor(happy_dat$Region)\n",
        "head(happy_dat, 15)"
      ],
      "metadata": {
        "colab": {
          "base_uri": "https://localhost:8080/",
          "height": 673
        },
        "id": "L6NMjOGFy_--",
        "outputId": "cc8713e5-b95c-4368-a28a-72c212716cb8"
      },
      "execution_count": null,
      "outputs": [
        {
          "output_type": "display_data",
          "data": {
            "text/html": [
              "<table class=\"dataframe\">\n",
              "<caption>A data.frame: 15 × 10</caption>\n",
              "<thead>\n",
              "\t<tr><th></th><th scope=col>Country</th><th scope=col>Region</th><th scope=col>Happiness_Rank</th><th scope=col>Happiness_Score</th><th scope=col>Economy_GDP_per_Capita</th><th scope=col>Family</th><th scope=col>Health_Life_Expectancy</th><th scope=col>Freedom</th><th scope=col>Trust_Government_Corruption</th><th scope=col>Generosity</th></tr>\n",
              "\t<tr><th></th><th scope=col>&lt;chr&gt;</th><th scope=col>&lt;fct&gt;</th><th scope=col>&lt;int&gt;</th><th scope=col>&lt;dbl&gt;</th><th scope=col>&lt;dbl&gt;</th><th scope=col>&lt;dbl&gt;</th><th scope=col>&lt;dbl&gt;</th><th scope=col>&lt;dbl&gt;</th><th scope=col>&lt;dbl&gt;</th><th scope=col>&lt;dbl&gt;</th></tr>\n",
              "</thead>\n",
              "<tbody>\n",
              "\t<tr><th scope=row>1</th><td>Denmark      </td><td>Western Europe                 </td><td> 1</td><td>7.526</td><td>1.44178</td><td>1.16374</td><td>0.79504</td><td>0.57941</td><td>0.44453</td><td>0.36171</td></tr>\n",
              "\t<tr><th scope=row>2</th><td>Switzerland  </td><td>Western Europe                 </td><td> 2</td><td>7.509</td><td>1.52733</td><td>1.14524</td><td>0.86303</td><td>0.58557</td><td>0.41203</td><td>0.28083</td></tr>\n",
              "\t<tr><th scope=row>3</th><td>Iceland      </td><td>Western Europe                 </td><td> 3</td><td>7.501</td><td>1.42666</td><td>1.18326</td><td>0.86733</td><td>0.56624</td><td>0.14975</td><td>0.47678</td></tr>\n",
              "\t<tr><th scope=row>4</th><td>Norway       </td><td>Western Europe                 </td><td> 4</td><td>7.498</td><td>1.57744</td><td>1.12690</td><td>0.79579</td><td>0.59609</td><td>0.35776</td><td>0.37895</td></tr>\n",
              "\t<tr><th scope=row>5</th><td>Finland      </td><td>Western Europe                 </td><td> 5</td><td>7.413</td><td>1.40598</td><td>1.13464</td><td>0.81091</td><td>0.57104</td><td>0.41004</td><td>0.25492</td></tr>\n",
              "\t<tr><th scope=row>6</th><td>Canada       </td><td>North America                  </td><td> 6</td><td>7.404</td><td>1.44015</td><td>1.09610</td><td>0.82760</td><td>0.57370</td><td>0.31329</td><td>0.44834</td></tr>\n",
              "\t<tr><th scope=row>7</th><td>Netherlands  </td><td>Western Europe                 </td><td> 7</td><td>7.339</td><td>1.46468</td><td>1.02912</td><td>0.81231</td><td>0.55211</td><td>0.29927</td><td>0.47416</td></tr>\n",
              "\t<tr><th scope=row>8</th><td>New Zealand  </td><td>Australia and New Zealand      </td><td> 8</td><td>7.334</td><td>1.36066</td><td>1.17278</td><td>0.83096</td><td>0.58147</td><td>0.41904</td><td>0.49401</td></tr>\n",
              "\t<tr><th scope=row>9</th><td>Australia    </td><td>Australia and New Zealand      </td><td> 9</td><td>7.313</td><td>1.44443</td><td>1.10476</td><td>0.85120</td><td>0.56837</td><td>0.32331</td><td>0.47407</td></tr>\n",
              "\t<tr><th scope=row>10</th><td>Sweden       </td><td>Western Europe                 </td><td>10</td><td>7.291</td><td>1.45181</td><td>1.08764</td><td>0.83121</td><td>0.58218</td><td>0.40867</td><td>0.38254</td></tr>\n",
              "\t<tr><th scope=row>11</th><td>Israel       </td><td>Middle East and Northern Africa</td><td>11</td><td>7.267</td><td>1.33766</td><td>0.99537</td><td>0.84917</td><td>0.36432</td><td>0.08728</td><td>0.32288</td></tr>\n",
              "\t<tr><th scope=row>12</th><td>Austria      </td><td>Western Europe                 </td><td>12</td><td>7.119</td><td>1.45038</td><td>1.08383</td><td>0.80565</td><td>0.54355</td><td>0.21348</td><td>0.32865</td></tr>\n",
              "\t<tr><th scope=row>13</th><td>United States</td><td>North America                  </td><td>13</td><td>7.104</td><td>1.50796</td><td>1.04782</td><td>0.77900</td><td>0.48163</td><td>0.14868</td><td>0.41077</td></tr>\n",
              "\t<tr><th scope=row>14</th><td>Costa Rica   </td><td>Latin America and Caribbean    </td><td>14</td><td>7.087</td><td>1.06879</td><td>1.02152</td><td>0.76146</td><td>0.55225</td><td>0.10547</td><td>0.22553</td></tr>\n",
              "\t<tr><th scope=row>15</th><td>Puerto Rico  </td><td>Latin America and Caribbean    </td><td>15</td><td>7.039</td><td>1.35943</td><td>1.08113</td><td>0.77758</td><td>0.46823</td><td>0.12275</td><td>0.22202</td></tr>\n",
              "</tbody>\n",
              "</table>\n"
            ],
            "text/markdown": "\nA data.frame: 15 × 10\n\n| <!--/--> | Country &lt;chr&gt; | Region &lt;fct&gt; | Happiness_Rank &lt;int&gt; | Happiness_Score &lt;dbl&gt; | Economy_GDP_per_Capita &lt;dbl&gt; | Family &lt;dbl&gt; | Health_Life_Expectancy &lt;dbl&gt; | Freedom &lt;dbl&gt; | Trust_Government_Corruption &lt;dbl&gt; | Generosity &lt;dbl&gt; |\n|---|---|---|---|---|---|---|---|---|---|---|\n| 1 | Denmark       | Western Europe                  |  1 | 7.526 | 1.44178 | 1.16374 | 0.79504 | 0.57941 | 0.44453 | 0.36171 |\n| 2 | Switzerland   | Western Europe                  |  2 | 7.509 | 1.52733 | 1.14524 | 0.86303 | 0.58557 | 0.41203 | 0.28083 |\n| 3 | Iceland       | Western Europe                  |  3 | 7.501 | 1.42666 | 1.18326 | 0.86733 | 0.56624 | 0.14975 | 0.47678 |\n| 4 | Norway        | Western Europe                  |  4 | 7.498 | 1.57744 | 1.12690 | 0.79579 | 0.59609 | 0.35776 | 0.37895 |\n| 5 | Finland       | Western Europe                  |  5 | 7.413 | 1.40598 | 1.13464 | 0.81091 | 0.57104 | 0.41004 | 0.25492 |\n| 6 | Canada        | North America                   |  6 | 7.404 | 1.44015 | 1.09610 | 0.82760 | 0.57370 | 0.31329 | 0.44834 |\n| 7 | Netherlands   | Western Europe                  |  7 | 7.339 | 1.46468 | 1.02912 | 0.81231 | 0.55211 | 0.29927 | 0.47416 |\n| 8 | New Zealand   | Australia and New Zealand       |  8 | 7.334 | 1.36066 | 1.17278 | 0.83096 | 0.58147 | 0.41904 | 0.49401 |\n| 9 | Australia     | Australia and New Zealand       |  9 | 7.313 | 1.44443 | 1.10476 | 0.85120 | 0.56837 | 0.32331 | 0.47407 |\n| 10 | Sweden        | Western Europe                  | 10 | 7.291 | 1.45181 | 1.08764 | 0.83121 | 0.58218 | 0.40867 | 0.38254 |\n| 11 | Israel        | Middle East and Northern Africa | 11 | 7.267 | 1.33766 | 0.99537 | 0.84917 | 0.36432 | 0.08728 | 0.32288 |\n| 12 | Austria       | Western Europe                  | 12 | 7.119 | 1.45038 | 1.08383 | 0.80565 | 0.54355 | 0.21348 | 0.32865 |\n| 13 | United States | North America                   | 13 | 7.104 | 1.50796 | 1.04782 | 0.77900 | 0.48163 | 0.14868 | 0.41077 |\n| 14 | Costa Rica    | Latin America and Caribbean     | 14 | 7.087 | 1.06879 | 1.02152 | 0.76146 | 0.55225 | 0.10547 | 0.22553 |\n| 15 | Puerto Rico   | Latin America and Caribbean     | 15 | 7.039 | 1.35943 | 1.08113 | 0.77758 | 0.46823 | 0.12275 | 0.22202 |\n\n",
            "text/latex": "A data.frame: 15 × 10\n\\begin{tabular}{r|llllllllll}\n  & Country & Region & Happiness\\_Rank & Happiness\\_Score & Economy\\_GDP\\_per\\_Capita & Family & Health\\_Life\\_Expectancy & Freedom & Trust\\_Government\\_Corruption & Generosity\\\\\n  & <chr> & <fct> & <int> & <dbl> & <dbl> & <dbl> & <dbl> & <dbl> & <dbl> & <dbl>\\\\\n\\hline\n\t1 & Denmark       & Western Europe                  &  1 & 7.526 & 1.44178 & 1.16374 & 0.79504 & 0.57941 & 0.44453 & 0.36171\\\\\n\t2 & Switzerland   & Western Europe                  &  2 & 7.509 & 1.52733 & 1.14524 & 0.86303 & 0.58557 & 0.41203 & 0.28083\\\\\n\t3 & Iceland       & Western Europe                  &  3 & 7.501 & 1.42666 & 1.18326 & 0.86733 & 0.56624 & 0.14975 & 0.47678\\\\\n\t4 & Norway        & Western Europe                  &  4 & 7.498 & 1.57744 & 1.12690 & 0.79579 & 0.59609 & 0.35776 & 0.37895\\\\\n\t5 & Finland       & Western Europe                  &  5 & 7.413 & 1.40598 & 1.13464 & 0.81091 & 0.57104 & 0.41004 & 0.25492\\\\\n\t6 & Canada        & North America                   &  6 & 7.404 & 1.44015 & 1.09610 & 0.82760 & 0.57370 & 0.31329 & 0.44834\\\\\n\t7 & Netherlands   & Western Europe                  &  7 & 7.339 & 1.46468 & 1.02912 & 0.81231 & 0.55211 & 0.29927 & 0.47416\\\\\n\t8 & New Zealand   & Australia and New Zealand       &  8 & 7.334 & 1.36066 & 1.17278 & 0.83096 & 0.58147 & 0.41904 & 0.49401\\\\\n\t9 & Australia     & Australia and New Zealand       &  9 & 7.313 & 1.44443 & 1.10476 & 0.85120 & 0.56837 & 0.32331 & 0.47407\\\\\n\t10 & Sweden        & Western Europe                  & 10 & 7.291 & 1.45181 & 1.08764 & 0.83121 & 0.58218 & 0.40867 & 0.38254\\\\\n\t11 & Israel        & Middle East and Northern Africa & 11 & 7.267 & 1.33766 & 0.99537 & 0.84917 & 0.36432 & 0.08728 & 0.32288\\\\\n\t12 & Austria       & Western Europe                  & 12 & 7.119 & 1.45038 & 1.08383 & 0.80565 & 0.54355 & 0.21348 & 0.32865\\\\\n\t13 & United States & North America                   & 13 & 7.104 & 1.50796 & 1.04782 & 0.77900 & 0.48163 & 0.14868 & 0.41077\\\\\n\t14 & Costa Rica    & Latin America and Caribbean     & 14 & 7.087 & 1.06879 & 1.02152 & 0.76146 & 0.55225 & 0.10547 & 0.22553\\\\\n\t15 & Puerto Rico   & Latin America and Caribbean     & 15 & 7.039 & 1.35943 & 1.08113 & 0.77758 & 0.46823 & 0.12275 & 0.22202\\\\\n\\end{tabular}\n",
            "text/plain": [
              "   Country       Region                          Happiness_Rank Happiness_Score\n",
              "1  Denmark       Western Europe                   1             7.526          \n",
              "2  Switzerland   Western Europe                   2             7.509          \n",
              "3  Iceland       Western Europe                   3             7.501          \n",
              "4  Norway        Western Europe                   4             7.498          \n",
              "5  Finland       Western Europe                   5             7.413          \n",
              "6  Canada        North America                    6             7.404          \n",
              "7  Netherlands   Western Europe                   7             7.339          \n",
              "8  New Zealand   Australia and New Zealand        8             7.334          \n",
              "9  Australia     Australia and New Zealand        9             7.313          \n",
              "10 Sweden        Western Europe                  10             7.291          \n",
              "11 Israel        Middle East and Northern Africa 11             7.267          \n",
              "12 Austria       Western Europe                  12             7.119          \n",
              "13 United States North America                   13             7.104          \n",
              "14 Costa Rica    Latin America and Caribbean     14             7.087          \n",
              "15 Puerto Rico   Latin America and Caribbean     15             7.039          \n",
              "   Economy_GDP_per_Capita Family  Health_Life_Expectancy Freedom\n",
              "1  1.44178                1.16374 0.79504                0.57941\n",
              "2  1.52733                1.14524 0.86303                0.58557\n",
              "3  1.42666                1.18326 0.86733                0.56624\n",
              "4  1.57744                1.12690 0.79579                0.59609\n",
              "5  1.40598                1.13464 0.81091                0.57104\n",
              "6  1.44015                1.09610 0.82760                0.57370\n",
              "7  1.46468                1.02912 0.81231                0.55211\n",
              "8  1.36066                1.17278 0.83096                0.58147\n",
              "9  1.44443                1.10476 0.85120                0.56837\n",
              "10 1.45181                1.08764 0.83121                0.58218\n",
              "11 1.33766                0.99537 0.84917                0.36432\n",
              "12 1.45038                1.08383 0.80565                0.54355\n",
              "13 1.50796                1.04782 0.77900                0.48163\n",
              "14 1.06879                1.02152 0.76146                0.55225\n",
              "15 1.35943                1.08113 0.77758                0.46823\n",
              "   Trust_Government_Corruption Generosity\n",
              "1  0.44453                     0.36171   \n",
              "2  0.41203                     0.28083   \n",
              "3  0.14975                     0.47678   \n",
              "4  0.35776                     0.37895   \n",
              "5  0.41004                     0.25492   \n",
              "6  0.31329                     0.44834   \n",
              "7  0.29927                     0.47416   \n",
              "8  0.41904                     0.49401   \n",
              "9  0.32331                     0.47407   \n",
              "10 0.40867                     0.38254   \n",
              "11 0.08728                     0.32288   \n",
              "12 0.21348                     0.32865   \n",
              "13 0.14868                     0.41077   \n",
              "14 0.10547                     0.22553   \n",
              "15 0.12275                     0.22202   "
            ]
          },
          "metadata": {}
        }
      ]
    },
    {
      "cell_type": "markdown",
      "source": [
        "Let's take a look at some of the data contained in our file. We can do this in a few different ways."
      ],
      "metadata": {
        "id": "euH_uyRCzx17"
      }
    },
    {
      "cell_type": "code",
      "source": [
        "happy_dat$Country # lists all of the countries represented in the dataset"
      ],
      "metadata": {
        "colab": {
          "base_uri": "https://localhost:8080/",
          "height": 173
        },
        "id": "lo6XhQPW0EVW",
        "outputId": "0135ca96-4fa3-4dd7-9216-c03f651eb6dc"
      },
      "execution_count": null,
      "outputs": [
        {
          "output_type": "display_data",
          "data": {
            "text/html": [
              "<style>\n",
              ".list-inline {list-style: none; margin:0; padding: 0}\n",
              ".list-inline>li {display: inline-block}\n",
              ".list-inline>li:not(:last-child)::after {content: \"\\00b7\"; padding: 0 .5ex}\n",
              "</style>\n",
              "<ol class=list-inline><li>'Denmark'</li><li>'Switzerland'</li><li>'Iceland'</li><li>'Norway'</li><li>'Finland'</li><li>'Canada'</li><li>'Netherlands'</li><li>'New Zealand'</li><li>'Australia'</li><li>'Sweden'</li><li>'Israel'</li><li>'Austria'</li><li>'United States'</li><li>'Costa Rica'</li><li>'Puerto Rico'</li><li>'Germany'</li><li>'Brazil'</li><li>'Belgium'</li><li>'Ireland'</li><li>'Luxembourg'</li><li>'Mexico'</li><li>'Singapore'</li><li>'United Kingdom'</li><li>'Chile'</li><li>'Panama'</li><li>'Argentina'</li><li>'Czech Republic'</li><li>'United Arab Emirates'</li><li>'Uruguay'</li><li>'Malta'</li><li>'Colombia'</li><li>'France'</li><li>'Thailand'</li><li>'Saudi Arabia'</li><li>'Taiwan'</li><li>'Qatar'</li><li>'Spain'</li><li>'Algeria'</li><li>'Guatemala'</li><li>'Suriname'</li><li>'Kuwait'</li><li>'Bahrain'</li><li>'Trinidad and Tobago'</li><li>'Venezuela'</li><li>'Slovakia'</li><li>'El Salvador'</li><li>'Malaysia'</li><li>'Nicaragua'</li><li>'Uzbekistan'</li><li>'Italy'</li><li>'Ecuador'</li><li>'Belize'</li><li>'Japan'</li><li>'Kazakhstan'</li><li>'Moldova'</li><li>'Russia'</li><li>'Poland'</li><li>'South Korea'</li><li>'Bolivia'</li><li>'Lithuania'</li><li>'Belarus'</li><li>'North Cyprus'</li><li>'Slovenia'</li><li>'Peru'</li><li>'Turkmenistan'</li><li>'Mauritius'</li><li>'Libya'</li><li>'Latvia'</li><li>'Cyprus'</li><li>'Paraguay'</li><li>'Romania'</li><li>'Estonia'</li><li>'Jamaica'</li><li>'Croatia'</li><li>'Hong Kong'</li><li>'Somalia'</li><li>'Kosovo'</li><li>'Turkey'</li><li>'Indonesia'</li><li>'Jordan'</li><li>'Azerbaijan'</li><li>'Philippines'</li><li>'China'</li><li>'Bhutan'</li><li>'Kyrgyzstan'</li><li>'Serbia'</li><li>'Bosnia and Herzegovina'</li><li>'Montenegro'</li><li>'Dominican Republic'</li><li>'Morocco'</li><li>'Hungary'</li><li>'Pakistan'</li><li>'Lebanon'</li><li>'Portugal'</li><li>'Macedonia'</li><li>'Vietnam'</li><li>'Somaliland Region'</li><li>'Tunisia'</li><li>'Greece'</li><li>'Tajikistan'</li><li>'Mongolia'</li><li>'Laos'</li><li>'Nigeria'</li><li>'Honduras'</li><li>'Iran'</li><li>'Zambia'</li><li>'Nepal'</li><li>'Palestinian Territories'</li><li>'Albania'</li><li>'Bangladesh'</li><li>'Sierra Leone'</li><li>'Iraq'</li><li>'Namibia'</li><li>'Cameroon'</li><li>'Ethiopia'</li><li>'South Africa'</li><li>'Sri Lanka'</li><li>'India'</li><li>'Myanmar'</li><li>'Egypt'</li><li>'Armenia'</li><li>'Kenya'</li><li>'Ukraine'</li><li>'Ghana'</li><li>'Congo (Kinshasa)'</li><li>'Georgia'</li><li>'Congo (Brazzaville)'</li><li>'Senegal'</li><li>'Bulgaria'</li><li>'Mauritania'</li><li>'Zimbabwe'</li><li>'Malawi'</li><li>'Sudan'</li><li>'Gabon'</li><li>'Mali'</li><li>'Haiti'</li><li>'Botswana'</li><li>'Comoros'</li><li>'Ivory Coast'</li><li>'Cambodia'</li><li>'Angola'</li><li>'Niger'</li><li>'South Sudan'</li><li>'Chad'</li><li>'Burkina Faso'</li><li>'Uganda'</li><li>'Yemen'</li><li>'Madagascar'</li><li>'Tanzania'</li><li>'Liberia'</li><li>'Guinea'</li><li>'Rwanda'</li><li>'Benin'</li><li>'Afghanistan'</li><li>'Togo'</li><li>'Syria'</li><li>'Burundi'</li></ol>\n"
            ],
            "text/markdown": "1. 'Denmark'\n2. 'Switzerland'\n3. 'Iceland'\n4. 'Norway'\n5. 'Finland'\n6. 'Canada'\n7. 'Netherlands'\n8. 'New Zealand'\n9. 'Australia'\n10. 'Sweden'\n11. 'Israel'\n12. 'Austria'\n13. 'United States'\n14. 'Costa Rica'\n15. 'Puerto Rico'\n16. 'Germany'\n17. 'Brazil'\n18. 'Belgium'\n19. 'Ireland'\n20. 'Luxembourg'\n21. 'Mexico'\n22. 'Singapore'\n23. 'United Kingdom'\n24. 'Chile'\n25. 'Panama'\n26. 'Argentina'\n27. 'Czech Republic'\n28. 'United Arab Emirates'\n29. 'Uruguay'\n30. 'Malta'\n31. 'Colombia'\n32. 'France'\n33. 'Thailand'\n34. 'Saudi Arabia'\n35. 'Taiwan'\n36. 'Qatar'\n37. 'Spain'\n38. 'Algeria'\n39. 'Guatemala'\n40. 'Suriname'\n41. 'Kuwait'\n42. 'Bahrain'\n43. 'Trinidad and Tobago'\n44. 'Venezuela'\n45. 'Slovakia'\n46. 'El Salvador'\n47. 'Malaysia'\n48. 'Nicaragua'\n49. 'Uzbekistan'\n50. 'Italy'\n51. 'Ecuador'\n52. 'Belize'\n53. 'Japan'\n54. 'Kazakhstan'\n55. 'Moldova'\n56. 'Russia'\n57. 'Poland'\n58. 'South Korea'\n59. 'Bolivia'\n60. 'Lithuania'\n61. 'Belarus'\n62. 'North Cyprus'\n63. 'Slovenia'\n64. 'Peru'\n65. 'Turkmenistan'\n66. 'Mauritius'\n67. 'Libya'\n68. 'Latvia'\n69. 'Cyprus'\n70. 'Paraguay'\n71. 'Romania'\n72. 'Estonia'\n73. 'Jamaica'\n74. 'Croatia'\n75. 'Hong Kong'\n76. 'Somalia'\n77. 'Kosovo'\n78. 'Turkey'\n79. 'Indonesia'\n80. 'Jordan'\n81. 'Azerbaijan'\n82. 'Philippines'\n83. 'China'\n84. 'Bhutan'\n85. 'Kyrgyzstan'\n86. 'Serbia'\n87. 'Bosnia and Herzegovina'\n88. 'Montenegro'\n89. 'Dominican Republic'\n90. 'Morocco'\n91. 'Hungary'\n92. 'Pakistan'\n93. 'Lebanon'\n94. 'Portugal'\n95. 'Macedonia'\n96. 'Vietnam'\n97. 'Somaliland Region'\n98. 'Tunisia'\n99. 'Greece'\n100. 'Tajikistan'\n101. 'Mongolia'\n102. 'Laos'\n103. 'Nigeria'\n104. 'Honduras'\n105. 'Iran'\n106. 'Zambia'\n107. 'Nepal'\n108. 'Palestinian Territories'\n109. 'Albania'\n110. 'Bangladesh'\n111. 'Sierra Leone'\n112. 'Iraq'\n113. 'Namibia'\n114. 'Cameroon'\n115. 'Ethiopia'\n116. 'South Africa'\n117. 'Sri Lanka'\n118. 'India'\n119. 'Myanmar'\n120. 'Egypt'\n121. 'Armenia'\n122. 'Kenya'\n123. 'Ukraine'\n124. 'Ghana'\n125. 'Congo (Kinshasa)'\n126. 'Georgia'\n127. 'Congo (Brazzaville)'\n128. 'Senegal'\n129. 'Bulgaria'\n130. 'Mauritania'\n131. 'Zimbabwe'\n132. 'Malawi'\n133. 'Sudan'\n134. 'Gabon'\n135. 'Mali'\n136. 'Haiti'\n137. 'Botswana'\n138. 'Comoros'\n139. 'Ivory Coast'\n140. 'Cambodia'\n141. 'Angola'\n142. 'Niger'\n143. 'South Sudan'\n144. 'Chad'\n145. 'Burkina Faso'\n146. 'Uganda'\n147. 'Yemen'\n148. 'Madagascar'\n149. 'Tanzania'\n150. 'Liberia'\n151. 'Guinea'\n152. 'Rwanda'\n153. 'Benin'\n154. 'Afghanistan'\n155. 'Togo'\n156. 'Syria'\n157. 'Burundi'\n\n\n",
            "text/latex": "\\begin{enumerate*}\n\\item 'Denmark'\n\\item 'Switzerland'\n\\item 'Iceland'\n\\item 'Norway'\n\\item 'Finland'\n\\item 'Canada'\n\\item 'Netherlands'\n\\item 'New Zealand'\n\\item 'Australia'\n\\item 'Sweden'\n\\item 'Israel'\n\\item 'Austria'\n\\item 'United States'\n\\item 'Costa Rica'\n\\item 'Puerto Rico'\n\\item 'Germany'\n\\item 'Brazil'\n\\item 'Belgium'\n\\item 'Ireland'\n\\item 'Luxembourg'\n\\item 'Mexico'\n\\item 'Singapore'\n\\item 'United Kingdom'\n\\item 'Chile'\n\\item 'Panama'\n\\item 'Argentina'\n\\item 'Czech Republic'\n\\item 'United Arab Emirates'\n\\item 'Uruguay'\n\\item 'Malta'\n\\item 'Colombia'\n\\item 'France'\n\\item 'Thailand'\n\\item 'Saudi Arabia'\n\\item 'Taiwan'\n\\item 'Qatar'\n\\item 'Spain'\n\\item 'Algeria'\n\\item 'Guatemala'\n\\item 'Suriname'\n\\item 'Kuwait'\n\\item 'Bahrain'\n\\item 'Trinidad and Tobago'\n\\item 'Venezuela'\n\\item 'Slovakia'\n\\item 'El Salvador'\n\\item 'Malaysia'\n\\item 'Nicaragua'\n\\item 'Uzbekistan'\n\\item 'Italy'\n\\item 'Ecuador'\n\\item 'Belize'\n\\item 'Japan'\n\\item 'Kazakhstan'\n\\item 'Moldova'\n\\item 'Russia'\n\\item 'Poland'\n\\item 'South Korea'\n\\item 'Bolivia'\n\\item 'Lithuania'\n\\item 'Belarus'\n\\item 'North Cyprus'\n\\item 'Slovenia'\n\\item 'Peru'\n\\item 'Turkmenistan'\n\\item 'Mauritius'\n\\item 'Libya'\n\\item 'Latvia'\n\\item 'Cyprus'\n\\item 'Paraguay'\n\\item 'Romania'\n\\item 'Estonia'\n\\item 'Jamaica'\n\\item 'Croatia'\n\\item 'Hong Kong'\n\\item 'Somalia'\n\\item 'Kosovo'\n\\item 'Turkey'\n\\item 'Indonesia'\n\\item 'Jordan'\n\\item 'Azerbaijan'\n\\item 'Philippines'\n\\item 'China'\n\\item 'Bhutan'\n\\item 'Kyrgyzstan'\n\\item 'Serbia'\n\\item 'Bosnia and Herzegovina'\n\\item 'Montenegro'\n\\item 'Dominican Republic'\n\\item 'Morocco'\n\\item 'Hungary'\n\\item 'Pakistan'\n\\item 'Lebanon'\n\\item 'Portugal'\n\\item 'Macedonia'\n\\item 'Vietnam'\n\\item 'Somaliland Region'\n\\item 'Tunisia'\n\\item 'Greece'\n\\item 'Tajikistan'\n\\item 'Mongolia'\n\\item 'Laos'\n\\item 'Nigeria'\n\\item 'Honduras'\n\\item 'Iran'\n\\item 'Zambia'\n\\item 'Nepal'\n\\item 'Palestinian Territories'\n\\item 'Albania'\n\\item 'Bangladesh'\n\\item 'Sierra Leone'\n\\item 'Iraq'\n\\item 'Namibia'\n\\item 'Cameroon'\n\\item 'Ethiopia'\n\\item 'South Africa'\n\\item 'Sri Lanka'\n\\item 'India'\n\\item 'Myanmar'\n\\item 'Egypt'\n\\item 'Armenia'\n\\item 'Kenya'\n\\item 'Ukraine'\n\\item 'Ghana'\n\\item 'Congo (Kinshasa)'\n\\item 'Georgia'\n\\item 'Congo (Brazzaville)'\n\\item 'Senegal'\n\\item 'Bulgaria'\n\\item 'Mauritania'\n\\item 'Zimbabwe'\n\\item 'Malawi'\n\\item 'Sudan'\n\\item 'Gabon'\n\\item 'Mali'\n\\item 'Haiti'\n\\item 'Botswana'\n\\item 'Comoros'\n\\item 'Ivory Coast'\n\\item 'Cambodia'\n\\item 'Angola'\n\\item 'Niger'\n\\item 'South Sudan'\n\\item 'Chad'\n\\item 'Burkina Faso'\n\\item 'Uganda'\n\\item 'Yemen'\n\\item 'Madagascar'\n\\item 'Tanzania'\n\\item 'Liberia'\n\\item 'Guinea'\n\\item 'Rwanda'\n\\item 'Benin'\n\\item 'Afghanistan'\n\\item 'Togo'\n\\item 'Syria'\n\\item 'Burundi'\n\\end{enumerate*}\n",
            "text/plain": [
              "  [1] \"Denmark\"                 \"Switzerland\"            \n",
              "  [3] \"Iceland\"                 \"Norway\"                 \n",
              "  [5] \"Finland\"                 \"Canada\"                 \n",
              "  [7] \"Netherlands\"             \"New Zealand\"            \n",
              "  [9] \"Australia\"               \"Sweden\"                 \n",
              " [11] \"Israel\"                  \"Austria\"                \n",
              " [13] \"United States\"           \"Costa Rica\"             \n",
              " [15] \"Puerto Rico\"             \"Germany\"                \n",
              " [17] \"Brazil\"                  \"Belgium\"                \n",
              " [19] \"Ireland\"                 \"Luxembourg\"             \n",
              " [21] \"Mexico\"                  \"Singapore\"              \n",
              " [23] \"United Kingdom\"          \"Chile\"                  \n",
              " [25] \"Panama\"                  \"Argentina\"              \n",
              " [27] \"Czech Republic\"          \"United Arab Emirates\"   \n",
              " [29] \"Uruguay\"                 \"Malta\"                  \n",
              " [31] \"Colombia\"                \"France\"                 \n",
              " [33] \"Thailand\"                \"Saudi Arabia\"           \n",
              " [35] \"Taiwan\"                  \"Qatar\"                  \n",
              " [37] \"Spain\"                   \"Algeria\"                \n",
              " [39] \"Guatemala\"               \"Suriname\"               \n",
              " [41] \"Kuwait\"                  \"Bahrain\"                \n",
              " [43] \"Trinidad and Tobago\"     \"Venezuela\"              \n",
              " [45] \"Slovakia\"                \"El Salvador\"            \n",
              " [47] \"Malaysia\"                \"Nicaragua\"              \n",
              " [49] \"Uzbekistan\"              \"Italy\"                  \n",
              " [51] \"Ecuador\"                 \"Belize\"                 \n",
              " [53] \"Japan\"                   \"Kazakhstan\"             \n",
              " [55] \"Moldova\"                 \"Russia\"                 \n",
              " [57] \"Poland\"                  \"South Korea\"            \n",
              " [59] \"Bolivia\"                 \"Lithuania\"              \n",
              " [61] \"Belarus\"                 \"North Cyprus\"           \n",
              " [63] \"Slovenia\"                \"Peru\"                   \n",
              " [65] \"Turkmenistan\"            \"Mauritius\"              \n",
              " [67] \"Libya\"                   \"Latvia\"                 \n",
              " [69] \"Cyprus\"                  \"Paraguay\"               \n",
              " [71] \"Romania\"                 \"Estonia\"                \n",
              " [73] \"Jamaica\"                 \"Croatia\"                \n",
              " [75] \"Hong Kong\"               \"Somalia\"                \n",
              " [77] \"Kosovo\"                  \"Turkey\"                 \n",
              " [79] \"Indonesia\"               \"Jordan\"                 \n",
              " [81] \"Azerbaijan\"              \"Philippines\"            \n",
              " [83] \"China\"                   \"Bhutan\"                 \n",
              " [85] \"Kyrgyzstan\"              \"Serbia\"                 \n",
              " [87] \"Bosnia and Herzegovina\"  \"Montenegro\"             \n",
              " [89] \"Dominican Republic\"      \"Morocco\"                \n",
              " [91] \"Hungary\"                 \"Pakistan\"               \n",
              " [93] \"Lebanon\"                 \"Portugal\"               \n",
              " [95] \"Macedonia\"               \"Vietnam\"                \n",
              " [97] \"Somaliland Region\"       \"Tunisia\"                \n",
              " [99] \"Greece\"                  \"Tajikistan\"             \n",
              "[101] \"Mongolia\"                \"Laos\"                   \n",
              "[103] \"Nigeria\"                 \"Honduras\"               \n",
              "[105] \"Iran\"                    \"Zambia\"                 \n",
              "[107] \"Nepal\"                   \"Palestinian Territories\"\n",
              "[109] \"Albania\"                 \"Bangladesh\"             \n",
              "[111] \"Sierra Leone\"            \"Iraq\"                   \n",
              "[113] \"Namibia\"                 \"Cameroon\"               \n",
              "[115] \"Ethiopia\"                \"South Africa\"           \n",
              "[117] \"Sri Lanka\"               \"India\"                  \n",
              "[119] \"Myanmar\"                 \"Egypt\"                  \n",
              "[121] \"Armenia\"                 \"Kenya\"                  \n",
              "[123] \"Ukraine\"                 \"Ghana\"                  \n",
              "[125] \"Congo (Kinshasa)\"        \"Georgia\"                \n",
              "[127] \"Congo (Brazzaville)\"     \"Senegal\"                \n",
              "[129] \"Bulgaria\"                \"Mauritania\"             \n",
              "[131] \"Zimbabwe\"                \"Malawi\"                 \n",
              "[133] \"Sudan\"                   \"Gabon\"                  \n",
              "[135] \"Mali\"                    \"Haiti\"                  \n",
              "[137] \"Botswana\"                \"Comoros\"                \n",
              "[139] \"Ivory Coast\"             \"Cambodia\"               \n",
              "[141] \"Angola\"                  \"Niger\"                  \n",
              "[143] \"South Sudan\"             \"Chad\"                   \n",
              "[145] \"Burkina Faso\"            \"Uganda\"                 \n",
              "[147] \"Yemen\"                   \"Madagascar\"             \n",
              "[149] \"Tanzania\"                \"Liberia\"                \n",
              "[151] \"Guinea\"                  \"Rwanda\"                 \n",
              "[153] \"Benin\"                   \"Afghanistan\"            \n",
              "[155] \"Togo\"                    \"Syria\"                  \n",
              "[157] \"Burundi\"                "
            ]
          },
          "metadata": {}
        }
      ]
    },
    {
      "cell_type": "code",
      "source": [
        "table(happy_dat$Region) # creates a table of how many countries are represented within each region"
      ],
      "metadata": {
        "colab": {
          "base_uri": "https://localhost:8080/",
          "height": 213
        },
        "id": "R-86fsYb0Gu-",
        "outputId": "9c339cdb-c280-48e1-e71a-70538816ed52"
      },
      "execution_count": null,
      "outputs": [
        {
          "output_type": "display_data",
          "data": {
            "text/plain": [
              "\n",
              "      Australia and New Zealand      Central and Eastern Europe \n",
              "                              2                              29 \n",
              "                   Eastern Asia     Latin America and Caribbean \n",
              "                              6                              24 \n",
              "Middle East and Northern Africa                   North America \n",
              "                             19                               2 \n",
              "              Southeastern Asia                   Southern Asia \n",
              "                              9                               7 \n",
              "             Sub-Saharan Africa                  Western Europe \n",
              "                             38                              21 "
            ]
          },
          "metadata": {}
        }
      ]
    },
    {
      "cell_type": "code",
      "source": [
        "hist(happy_dat$Happiness_Score) # creates a histogram to look at the distribution of happiness scores in the dataset"
      ],
      "metadata": {
        "colab": {
          "base_uri": "https://localhost:8080/",
          "height": 437
        },
        "id": "PipmnKrU0KWs",
        "outputId": "a4b53997-6764-4a80-bd91-0e7e81f5d454"
      },
      "execution_count": null,
      "outputs": [
        {
          "output_type": "display_data",
          "data": {
            "text/plain": [
              "Plot with title “Histogram of happy_dat$Happiness_Score”"
            ],
            "image/png": "[encoded data removed]"
          },
          "metadata": {
            "image/png": {
              "width": 420,
              "height": 420
            }
          }
        }
      ]
    },
    {
      "cell_type": "markdown",
      "source": [
        "ok, now let's visualize the relationship between some of the variables in the dataset and country-level happiness. Let's start with \"Family\" which represents the average level of social support that participants reported experiencing in each country"
      ],
      "metadata": {
        "id": "dRqqMOtL0kPP"
      }
    },
    {
      "cell_type": "code",
      "source": [
        "plot(happy_dat$Family, happy_dat$Happiness_Score) # plots family support (x-axis) and happiness score (y-axis)"
      ],
      "metadata": {
        "colab": {
          "base_uri": "https://localhost:8080/",
          "height": 437
        },
        "id": "uCsYEwAB0wcN",
        "outputId": "bc3606fa-337c-48ec-c86f-d30c979d19c9"
      },
      "execution_count": null,
      "outputs": [
        {
          "output_type": "display_data",
          "data": {
            "text/plain": [
              "plot without title"
            ],
            "image/png": "[encoded data removed]"
          },
          "metadata": {
            "image/png": {
              "width": 420,
              "height": 420
            }
          }
        }
      ]
    },
    {
      "cell_type": "markdown",
      "source": [
        "ok, now I want you to do the same thing, but now with the Economy_GDP_per_Capita variable\n"
      ],
      "metadata": {
        "id": "o5S27UHb1M5e"
      }
    },
    {
      "cell_type": "code",
      "source": [
        "# INSERT CODE HERE"
      ],
      "metadata": {
        "id": "tPYUsBkn1S_b"
      },
      "execution_count": null,
      "outputs": []
    },
    {
      "cell_type": "markdown",
      "source": [
        "hm, these look similar, but does the strength of association between social\n",
        "support and happiness and Economy and happiness look identical? Or does one\n",
        "look stronger than the other? Let's check!"
      ],
      "metadata": {
        "id": "0pi7q4bE-M42"
      }
    },
    {
      "cell_type": "code",
      "source": [
        "cor.test(happy_dat$Family, happy_dat$Happiness_Score)\n",
        "# insert code for Economy_GDP_per_Capita here"
      ],
      "metadata": {
        "colab": {
          "base_uri": "https://localhost:8080/",
          "height": 213
        },
        "id": "XQWNQ07L-QEX",
        "outputId": "21bb6920-4b96-4fe6-a02d-8977e5d4a864"
      },
      "execution_count": null,
      "outputs": [
        {
          "output_type": "display_data",
          "data": {
            "text/plain": [
              "\n",
              "\tPearson's product-moment correlation\n",
              "\n",
              "data:  happy_dat$Family and happy_dat$Happiness_Score\n",
              "t = 13.667, df = 155, p-value < 2.2e-16\n",
              "alternative hypothesis: true correlation is not equal to 0\n",
              "95 percent confidence interval:\n",
              " 0.6589122 0.8029161\n",
              "sample estimates:\n",
              "      cor \n",
              "0.7392516 \n"
            ]
          },
          "metadata": {}
        }
      ]
    },
    {
      "cell_type": "markdown",
      "source": [
        "Now let's do the same thing for Health_Life_Expectancy"
      ],
      "metadata": {
        "id": "zX8U128I-hh0"
      }
    },
    {
      "cell_type": "code",
      "source": [
        "# Insert code for Health_Life_Expectancy"
      ],
      "metadata": {
        "id": "P_e0FULv-m3q"
      },
      "execution_count": null,
      "outputs": []
    },
    {
      "cell_type": "markdown",
      "source": [
        "Ok, we have correlations down -- now let's see if there are mean-level differences across the different regions on our variables of interest"
      ],
      "metadata": {
        "id": "Ywed0DYq-vg4"
      }
    },
    {
      "cell_type": "code",
      "source": [
        "happy_dat %>%\n",
        "  dplyr::group_by(Region) %>%\n",
        "  summarise(mean_happiness = mean(Happiness_Score))"
      ],
      "metadata": {
        "colab": {
          "base_uri": "https://localhost:8080/",
          "height": 412
        },
        "id": "TcB7172n-zJT",
        "outputId": "8e8d9e3e-6da0-44c8-f781-756b0fd64d3d"
      },
      "execution_count": null,
      "outputs": [
        {
          "output_type": "display_data",
          "data": {
            "text/html": [
              "<table class=\"dataframe\">\n",
              "<caption>A tibble: 10 × 2</caption>\n",
              "<thead>\n",
              "\t<tr><th scope=col>Region</th><th scope=col>mean_happiness</th></tr>\n",
              "\t<tr><th scope=col>&lt;fct&gt;</th><th scope=col>&lt;dbl&gt;</th></tr>\n",
              "</thead>\n",
              "<tbody>\n",
              "\t<tr><td>Australia and New Zealand      </td><td>7.323500</td></tr>\n",
              "\t<tr><td>Central and Eastern Europe     </td><td>5.370690</td></tr>\n",
              "\t<tr><td>Eastern Asia                   </td><td>5.624167</td></tr>\n",
              "\t<tr><td>Latin America and Caribbean    </td><td>6.101750</td></tr>\n",
              "\t<tr><td>Middle East and Northern Africa</td><td>5.386053</td></tr>\n",
              "\t<tr><td>North America                  </td><td>7.254000</td></tr>\n",
              "\t<tr><td>Southeastern Asia              </td><td>5.338889</td></tr>\n",
              "\t<tr><td>Southern Asia                  </td><td>4.563286</td></tr>\n",
              "\t<tr><td>Sub-Saharan Africa             </td><td>4.136421</td></tr>\n",
              "\t<tr><td>Western Europe                 </td><td>6.685667</td></tr>\n",
              "</tbody>\n",
              "</table>\n"
            ],
            "text/markdown": "\nA tibble: 10 × 2\n\n| Region &lt;fct&gt; | mean_happiness &lt;dbl&gt; |\n|---|---|\n| Australia and New Zealand       | 7.323500 |\n| Central and Eastern Europe      | 5.370690 |\n| Eastern Asia                    | 5.624167 |\n| Latin America and Caribbean     | 6.101750 |\n| Middle East and Northern Africa | 5.386053 |\n| North America                   | 7.254000 |\n| Southeastern Asia               | 5.338889 |\n| Southern Asia                   | 4.563286 |\n| Sub-Saharan Africa              | 4.136421 |\n| Western Europe                  | 6.685667 |\n\n",
            "text/latex": "A tibble: 10 × 2\n\\begin{tabular}{ll}\n Region & mean\\_happiness\\\\\n <fct> & <dbl>\\\\\n\\hline\n\t Australia and New Zealand       & 7.323500\\\\\n\t Central and Eastern Europe      & 5.370690\\\\\n\t Eastern Asia                    & 5.624167\\\\\n\t Latin America and Caribbean     & 6.101750\\\\\n\t Middle East and Northern Africa & 5.386053\\\\\n\t North America                   & 7.254000\\\\\n\t Southeastern Asia               & 5.338889\\\\\n\t Southern Asia                   & 4.563286\\\\\n\t Sub-Saharan Africa              & 4.136421\\\\\n\t Western Europe                  & 6.685667\\\\\n\\end{tabular}\n",
            "text/plain": [
              "   Region                          mean_happiness\n",
              "1  Australia and New Zealand       7.323500      \n",
              "2  Central and Eastern Europe      5.370690      \n",
              "3  Eastern Asia                    5.624167      \n",
              "4  Latin America and Caribbean     6.101750      \n",
              "5  Middle East and Northern Africa 5.386053      \n",
              "6  North America                   7.254000      \n",
              "7  Southeastern Asia               5.338889      \n",
              "8  Southern Asia                   4.563286      \n",
              "9  Sub-Saharan Africa              4.136421      \n",
              "10 Western Europe                  6.685667      "
            ]
          },
          "metadata": {}
        }
      ]
    },
    {
      "cell_type": "markdown",
      "source": [
        "so something interesting is happening -- we know from eyeballing the data that the highest ranked countries for happiness are in western europe (places 1-5, respectively) -- but we can see that this region has lower mean happiness than australia/new zealand and north america. what might this suggest?"
      ],
      "metadata": {
        "id": "kqNdzSdR_it2"
      }
    },
    {
      "cell_type": "code",
      "source": [
        "western_europe <- subset(happy_dat, Region == \"Western Europe\")\n",
        "hist(western_europe$Happiness_Score)\n",
        "australia_nz <- subset(happy_dat, Region == \"Australia and New Zealand\")\n",
        "hist(australia_nz$Happiness_Score)\n",
        "north_america <- subset(happy_dat, Region == \"North America\")\n",
        "hist(north_america$Happiness_Score)"
      ],
      "metadata": {
        "colab": {
          "base_uri": "https://localhost:8080/",
          "height": 1000
        },
        "id": "S-fxAKLd_iUC",
        "outputId": "a64e1c1f-49f7-45e4-c5fd-0c2910cf5e5c"
      },
      "execution_count": null,
      "outputs": [
        {
          "output_type": "display_data",
          "data": {
            "text/plain": [
              "Plot with title “Histogram of western_europe$Happiness_Score”"
            ],
            "image/png": "[encoded data removed]"
          },
          "metadata": {
            "image/png": {
              "width": 420,
              "height": 420
            }
          }
        },
        {
          "output_type": "display_data",
          "data": {
            "text/plain": [
              "Plot with title “Histogram of australia_nz$Happiness_Score”"
            ],
            "image/png": "[encoded data removed]"
          },
          "metadata": {
            "image/png": {
              "width": 420,
              "height": 420
            }
          }
        },
        {
          "output_type": "display_data",
          "data": {
            "text/plain": [
              "Plot with title “Histogram of north_america$Happiness_Score”"
            ],
            "image/png": "[encoded data removed]"
          },
          "metadata": {
            "image/png": {
              "width": 420,
              "height": 420
            }
          }
        }
      ]
    },
    {
      "cell_type": "markdown",
      "source": [
        "as an aside -- what is above is bad code (as a soft rule, you don't want to copy and paste more  than twice). This is a more advanced way to do it that I am putting here for interested parties."
      ],
      "metadata": {
        "id": "VcgN5euZ_yOH"
      }
    },
    {
      "cell_type": "code",
      "source": [
        "ggplot(happy_dat, aes(x = Happiness_Score)) +\n",
        "  geom_histogram(binwidth=1) +\n",
        "  theme_bw() +\n",
        "  facet_wrap(~ Region)\n"
      ],
      "metadata": {
        "colab": {
          "base_uri": "https://localhost:8080/",
          "height": 437
        },
        "id": "l5VkcRtt_1R0",
        "outputId": "d78f6160-dfe9-40d0-a360-42c893fb5b88"
      },
      "execution_count": null,
      "outputs": [
        {
          "output_type": "display_data",
          "data": {
            "text/plain": [
              "plot without title"
            ],
            "image/png": "[encoded data removed]"
          },
          "metadata": {
            "image/png": {
              "width": 420,
              "height": 420
            }
          }
        }
      ]
    },
    {
      "cell_type": "markdown",
      "source": [
        "ok, let's take a bit of a step back and do some more basics. So far, we have been looking at variables continuously, to see if there is a positive association between things like social support and happiness, for example. But maybe when it comes to something like money and happiness, there is a tipping point, like being above average (note: there is actually a tipping point that has been identified in the literature -- https://www.nature.com/articles/s41562-017-0277-0 -- but we won't go into that today)."
      ],
      "metadata": {
        "id": "zps9ijKMAGSo"
      }
    },
    {
      "cell_type": "code",
      "source": [
        "# calculate the mean/average GDP for the sample\n",
        "mean_gdp <- mean(happy_dat$Economy_GDP_per_Capita)\n",
        "# subtract the mean from each country -- now having a positive number means your\n",
        "# country is above average in wealth, and a negative number means your country is\n",
        "# below average in wealth\n",
        "happy_dat$Economy_GDP_per_Capita_cb <- happy_dat$Economy_GDP_per_Capita - mean_gdp\n",
        "# we can use this to create a binary variable\n",
        "happy_dat <-\n",
        "  happy_dat %>%\n",
        "  mutate(gdp_binary = case_when(\n",
        "    Economy_GDP_per_Capita_cb < 0 ~ \"Below Average\",\n",
        "    Economy_GDP_per_Capita_cb > 0 ~ \"Above Average\"\n",
        "  ))"
      ],
      "metadata": {
        "id": "gw_Ynny1Oe_4"
      },
      "execution_count": null,
      "outputs": []
    },
    {
      "cell_type": "code",
      "source": [
        "# look at the new variable we have created\n",
        "head(happy_dat, 15)"
      ],
      "metadata": {
        "colab": {
          "base_uri": "https://localhost:8080/",
          "height": 988
        },
        "id": "Ik_tT_n-RoQk",
        "outputId": "e1d6912c-9786-4ca3-8454-0d87472f61c9"
      },
      "execution_count": null,
      "outputs": [
        {
          "output_type": "display_data",
          "data": {
            "text/html": [
              "<table class=\"dataframe\">\n",
              "<caption>A data.frame: 15 × 12</caption>\n",
              "<thead>\n",
              "\t<tr><th></th><th scope=col>Country</th><th scope=col>Region</th><th scope=col>Happiness_Rank</th><th scope=col>Happiness_Score</th><th scope=col>Economy_GDP_per_Capita</th><th scope=col>Family</th><th scope=col>Health_Life_Expectancy</th><th scope=col>Freedom</th><th scope=col>Trust_Government_Corruption</th><th scope=col>Generosity</th><th scope=col>Economy_GDP_per_Capita_cb</th><th scope=col>gdp_binary</th></tr>\n",
              "\t<tr><th></th><th scope=col>&lt;chr&gt;</th><th scope=col>&lt;fct&gt;</th><th scope=col>&lt;int&gt;</th><th scope=col>&lt;dbl&gt;</th><th scope=col>&lt;dbl&gt;</th><th scope=col>&lt;dbl&gt;</th><th scope=col>&lt;dbl&gt;</th><th scope=col>&lt;dbl&gt;</th><th scope=col>&lt;dbl&gt;</th><th scope=col>&lt;dbl&gt;</th><th scope=col>&lt;dbl&gt;</th><th scope=col>&lt;chr&gt;</th></tr>\n",
              "</thead>\n",
              "<tbody>\n",
              "\t<tr><th scope=row>1</th><td>Denmark      </td><td>Western Europe                 </td><td> 1</td><td>7.526</td><td>1.44178</td><td>1.16374</td><td>0.79504</td><td>0.57941</td><td>0.44453</td><td>0.36171</td><td>0.4879002</td><td>Above Average</td></tr>\n",
              "\t<tr><th scope=row>2</th><td>Switzerland  </td><td>Western Europe                 </td><td> 2</td><td>7.509</td><td>1.52733</td><td>1.14524</td><td>0.86303</td><td>0.58557</td><td>0.41203</td><td>0.28083</td><td>0.5734502</td><td>Above Average</td></tr>\n",
              "\t<tr><th scope=row>3</th><td>Iceland      </td><td>Western Europe                 </td><td> 3</td><td>7.501</td><td>1.42666</td><td>1.18326</td><td>0.86733</td><td>0.56624</td><td>0.14975</td><td>0.47678</td><td>0.4727802</td><td>Above Average</td></tr>\n",
              "\t<tr><th scope=row>4</th><td>Norway       </td><td>Western Europe                 </td><td> 4</td><td>7.498</td><td>1.57744</td><td>1.12690</td><td>0.79579</td><td>0.59609</td><td>0.35776</td><td>0.37895</td><td>0.6235602</td><td>Above Average</td></tr>\n",
              "\t<tr><th scope=row>5</th><td>Finland      </td><td>Western Europe                 </td><td> 5</td><td>7.413</td><td>1.40598</td><td>1.13464</td><td>0.81091</td><td>0.57104</td><td>0.41004</td><td>0.25492</td><td>0.4521002</td><td>Above Average</td></tr>\n",
              "\t<tr><th scope=row>6</th><td>Canada       </td><td>North America                  </td><td> 6</td><td>7.404</td><td>1.44015</td><td>1.09610</td><td>0.82760</td><td>0.57370</td><td>0.31329</td><td>0.44834</td><td>0.4862702</td><td>Above Average</td></tr>\n",
              "\t<tr><th scope=row>7</th><td>Netherlands  </td><td>Western Europe                 </td><td> 7</td><td>7.339</td><td>1.46468</td><td>1.02912</td><td>0.81231</td><td>0.55211</td><td>0.29927</td><td>0.47416</td><td>0.5108002</td><td>Above Average</td></tr>\n",
              "\t<tr><th scope=row>8</th><td>New Zealand  </td><td>Australia and New Zealand      </td><td> 8</td><td>7.334</td><td>1.36066</td><td>1.17278</td><td>0.83096</td><td>0.58147</td><td>0.41904</td><td>0.49401</td><td>0.4067802</td><td>Above Average</td></tr>\n",
              "\t<tr><th scope=row>9</th><td>Australia    </td><td>Australia and New Zealand      </td><td> 9</td><td>7.313</td><td>1.44443</td><td>1.10476</td><td>0.85120</td><td>0.56837</td><td>0.32331</td><td>0.47407</td><td>0.4905502</td><td>Above Average</td></tr>\n",
              "\t<tr><th scope=row>10</th><td>Sweden       </td><td>Western Europe                 </td><td>10</td><td>7.291</td><td>1.45181</td><td>1.08764</td><td>0.83121</td><td>0.58218</td><td>0.40867</td><td>0.38254</td><td>0.4979302</td><td>Above Average</td></tr>\n",
              "\t<tr><th scope=row>11</th><td>Israel       </td><td>Middle East and Northern Africa</td><td>11</td><td>7.267</td><td>1.33766</td><td>0.99537</td><td>0.84917</td><td>0.36432</td><td>0.08728</td><td>0.32288</td><td>0.3837802</td><td>Above Average</td></tr>\n",
              "\t<tr><th scope=row>12</th><td>Austria      </td><td>Western Europe                 </td><td>12</td><td>7.119</td><td>1.45038</td><td>1.08383</td><td>0.80565</td><td>0.54355</td><td>0.21348</td><td>0.32865</td><td>0.4965002</td><td>Above Average</td></tr>\n",
              "\t<tr><th scope=row>13</th><td>United States</td><td>North America                  </td><td>13</td><td>7.104</td><td>1.50796</td><td>1.04782</td><td>0.77900</td><td>0.48163</td><td>0.14868</td><td>0.41077</td><td>0.5540802</td><td>Above Average</td></tr>\n",
              "\t<tr><th scope=row>14</th><td>Costa Rica   </td><td>Latin America and Caribbean    </td><td>14</td><td>7.087</td><td>1.06879</td><td>1.02152</td><td>0.76146</td><td>0.55225</td><td>0.10547</td><td>0.22553</td><td>0.1149102</td><td>Above Average</td></tr>\n",
              "\t<tr><th scope=row>15</th><td>Puerto Rico  </td><td>Latin America and Caribbean    </td><td>15</td><td>7.039</td><td>1.35943</td><td>1.08113</td><td>0.77758</td><td>0.46823</td><td>0.12275</td><td>0.22202</td><td>0.4055502</td><td>Above Average</td></tr>\n",
              "</tbody>\n",
              "</table>\n"
            ],
            "text/markdown": "\nA data.frame: 15 × 12\n\n| <!--/--> | Country &lt;chr&gt; | Region &lt;fct&gt; | Happiness_Rank &lt;int&gt; | Happiness_Score &lt;dbl&gt; | Economy_GDP_per_Capita &lt;dbl&gt; | Family &lt;dbl&gt; | Health_Life_Expectancy &lt;dbl&gt; | Freedom &lt;dbl&gt; | Trust_Government_Corruption &lt;dbl&gt; | Generosity &lt;dbl&gt; | Economy_GDP_per_Capita_cb &lt;dbl&gt; | gdp_binary &lt;chr&gt; |\n|---|---|---|---|---|---|---|---|---|---|---|---|---|\n| 1 | Denmark       | Western Europe                  |  1 | 7.526 | 1.44178 | 1.16374 | 0.79504 | 0.57941 | 0.44453 | 0.36171 | 0.4879002 | Above Average |\n| 2 | Switzerland   | Western Europe                  |  2 | 7.509 | 1.52733 | 1.14524 | 0.86303 | 0.58557 | 0.41203 | 0.28083 | 0.5734502 | Above Average |\n| 3 | Iceland       | Western Europe                  |  3 | 7.501 | 1.42666 | 1.18326 | 0.86733 | 0.56624 | 0.14975 | 0.47678 | 0.4727802 | Above Average |\n| 4 | Norway        | Western Europe                  |  4 | 7.498 | 1.57744 | 1.12690 | 0.79579 | 0.59609 | 0.35776 | 0.37895 | 0.6235602 | Above Average |\n| 5 | Finland       | Western Europe                  |  5 | 7.413 | 1.40598 | 1.13464 | 0.81091 | 0.57104 | 0.41004 | 0.25492 | 0.4521002 | Above Average |\n| 6 | Canada        | North America                   |  6 | 7.404 | 1.44015 | 1.09610 | 0.82760 | 0.57370 | 0.31329 | 0.44834 | 0.4862702 | Above Average |\n| 7 | Netherlands   | Western Europe                  |  7 | 7.339 | 1.46468 | 1.02912 | 0.81231 | 0.55211 | 0.29927 | 0.47416 | 0.5108002 | Above Average |\n| 8 | New Zealand   | Australia and New Zealand       |  8 | 7.334 | 1.36066 | 1.17278 | 0.83096 | 0.58147 | 0.41904 | 0.49401 | 0.4067802 | Above Average |\n| 9 | Australia     | Australia and New Zealand       |  9 | 7.313 | 1.44443 | 1.10476 | 0.85120 | 0.56837 | 0.32331 | 0.47407 | 0.4905502 | Above Average |\n| 10 | Sweden        | Western Europe                  | 10 | 7.291 | 1.45181 | 1.08764 | 0.83121 | 0.58218 | 0.40867 | 0.38254 | 0.4979302 | Above Average |\n| 11 | Israel        | Middle East and Northern Africa | 11 | 7.267 | 1.33766 | 0.99537 | 0.84917 | 0.36432 | 0.08728 | 0.32288 | 0.3837802 | Above Average |\n| 12 | Austria       | Western Europe                  | 12 | 7.119 | 1.45038 | 1.08383 | 0.80565 | 0.54355 | 0.21348 | 0.32865 | 0.4965002 | Above Average |\n| 13 | United States | North America                   | 13 | 7.104 | 1.50796 | 1.04782 | 0.77900 | 0.48163 | 0.14868 | 0.41077 | 0.5540802 | Above Average |\n| 14 | Costa Rica    | Latin America and Caribbean     | 14 | 7.087 | 1.06879 | 1.02152 | 0.76146 | 0.55225 | 0.10547 | 0.22553 | 0.1149102 | Above Average |\n| 15 | Puerto Rico   | Latin America and Caribbean     | 15 | 7.039 | 1.35943 | 1.08113 | 0.77758 | 0.46823 | 0.12275 | 0.22202 | 0.4055502 | Above Average |\n\n",
            "text/latex": "A data.frame: 15 × 12\n\\begin{tabular}{r|llllllllllll}\n  & Country & Region & Happiness\\_Rank & Happiness\\_Score & Economy\\_GDP\\_per\\_Capita & Family & Health\\_Life\\_Expectancy & Freedom & Trust\\_Government\\_Corruption & Generosity & Economy\\_GDP\\_per\\_Capita\\_cb & gdp\\_binary\\\\\n  & <chr> & <fct> & <int> & <dbl> & <dbl> & <dbl> & <dbl> & <dbl> & <dbl> & <dbl> & <dbl> & <chr>\\\\\n\\hline\n\t1 & Denmark       & Western Europe                  &  1 & 7.526 & 1.44178 & 1.16374 & 0.79504 & 0.57941 & 0.44453 & 0.36171 & 0.4879002 & Above Average\\\\\n\t2 & Switzerland   & Western Europe                  &  2 & 7.509 & 1.52733 & 1.14524 & 0.86303 & 0.58557 & 0.41203 & 0.28083 & 0.5734502 & Above Average\\\\\n\t3 & Iceland       & Western Europe                  &  3 & 7.501 & 1.42666 & 1.18326 & 0.86733 & 0.56624 & 0.14975 & 0.47678 & 0.4727802 & Above Average\\\\\n\t4 & Norway        & Western Europe                  &  4 & 7.498 & 1.57744 & 1.12690 & 0.79579 & 0.59609 & 0.35776 & 0.37895 & 0.6235602 & Above Average\\\\\n\t5 & Finland       & Western Europe                  &  5 & 7.413 & 1.40598 & 1.13464 & 0.81091 & 0.57104 & 0.41004 & 0.25492 & 0.4521002 & Above Average\\\\\n\t6 & Canada        & North America                   &  6 & 7.404 & 1.44015 & 1.09610 & 0.82760 & 0.57370 & 0.31329 & 0.44834 & 0.4862702 & Above Average\\\\\n\t7 & Netherlands   & Western Europe                  &  7 & 7.339 & 1.46468 & 1.02912 & 0.81231 & 0.55211 & 0.29927 & 0.47416 & 0.5108002 & Above Average\\\\\n\t8 & New Zealand   & Australia and New Zealand       &  8 & 7.334 & 1.36066 & 1.17278 & 0.83096 & 0.58147 & 0.41904 & 0.49401 & 0.4067802 & Above Average\\\\\n\t9 & Australia     & Australia and New Zealand       &  9 & 7.313 & 1.44443 & 1.10476 & 0.85120 & 0.56837 & 0.32331 & 0.47407 & 0.4905502 & Above Average\\\\\n\t10 & Sweden        & Western Europe                  & 10 & 7.291 & 1.45181 & 1.08764 & 0.83121 & 0.58218 & 0.40867 & 0.38254 & 0.4979302 & Above Average\\\\\n\t11 & Israel        & Middle East and Northern Africa & 11 & 7.267 & 1.33766 & 0.99537 & 0.84917 & 0.36432 & 0.08728 & 0.32288 & 0.3837802 & Above Average\\\\\n\t12 & Austria       & Western Europe                  & 12 & 7.119 & 1.45038 & 1.08383 & 0.80565 & 0.54355 & 0.21348 & 0.32865 & 0.4965002 & Above Average\\\\\n\t13 & United States & North America                   & 13 & 7.104 & 1.50796 & 1.04782 & 0.77900 & 0.48163 & 0.14868 & 0.41077 & 0.5540802 & Above Average\\\\\n\t14 & Costa Rica    & Latin America and Caribbean     & 14 & 7.087 & 1.06879 & 1.02152 & 0.76146 & 0.55225 & 0.10547 & 0.22553 & 0.1149102 & Above Average\\\\\n\t15 & Puerto Rico   & Latin America and Caribbean     & 15 & 7.039 & 1.35943 & 1.08113 & 0.77758 & 0.46823 & 0.12275 & 0.22202 & 0.4055502 & Above Average\\\\\n\\end{tabular}\n",
            "text/plain": [
              "   Country       Region                          Happiness_Rank Happiness_Score\n",
              "1  Denmark       Western Europe                   1             7.526          \n",
              "2  Switzerland   Western Europe                   2             7.509          \n",
              "3  Iceland       Western Europe                   3             7.501          \n",
              "4  Norway        Western Europe                   4             7.498          \n",
              "5  Finland       Western Europe                   5             7.413          \n",
              "6  Canada        North America                    6             7.404          \n",
              "7  Netherlands   Western Europe                   7             7.339          \n",
              "8  New Zealand   Australia and New Zealand        8             7.334          \n",
              "9  Australia     Australia and New Zealand        9             7.313          \n",
              "10 Sweden        Western Europe                  10             7.291          \n",
              "11 Israel        Middle East and Northern Africa 11             7.267          \n",
              "12 Austria       Western Europe                  12             7.119          \n",
              "13 United States North America                   13             7.104          \n",
              "14 Costa Rica    Latin America and Caribbean     14             7.087          \n",
              "15 Puerto Rico   Latin America and Caribbean     15             7.039          \n",
              "   Economy_GDP_per_Capita Family  Health_Life_Expectancy Freedom\n",
              "1  1.44178                1.16374 0.79504                0.57941\n",
              "2  1.52733                1.14524 0.86303                0.58557\n",
              "3  1.42666                1.18326 0.86733                0.56624\n",
              "4  1.57744                1.12690 0.79579                0.59609\n",
              "5  1.40598                1.13464 0.81091                0.57104\n",
              "6  1.44015                1.09610 0.82760                0.57370\n",
              "7  1.46468                1.02912 0.81231                0.55211\n",
              "8  1.36066                1.17278 0.83096                0.58147\n",
              "9  1.44443                1.10476 0.85120                0.56837\n",
              "10 1.45181                1.08764 0.83121                0.58218\n",
              "11 1.33766                0.99537 0.84917                0.36432\n",
              "12 1.45038                1.08383 0.80565                0.54355\n",
              "13 1.50796                1.04782 0.77900                0.48163\n",
              "14 1.06879                1.02152 0.76146                0.55225\n",
              "15 1.35943                1.08113 0.77758                0.46823\n",
              "   Trust_Government_Corruption Generosity Economy_GDP_per_Capita_cb\n",
              "1  0.44453                     0.36171    0.4879002                \n",
              "2  0.41203                     0.28083    0.5734502                \n",
              "3  0.14975                     0.47678    0.4727802                \n",
              "4  0.35776                     0.37895    0.6235602                \n",
              "5  0.41004                     0.25492    0.4521002                \n",
              "6  0.31329                     0.44834    0.4862702                \n",
              "7  0.29927                     0.47416    0.5108002                \n",
              "8  0.41904                     0.49401    0.4067802                \n",
              "9  0.32331                     0.47407    0.4905502                \n",
              "10 0.40867                     0.38254    0.4979302                \n",
              "11 0.08728                     0.32288    0.3837802                \n",
              "12 0.21348                     0.32865    0.4965002                \n",
              "13 0.14868                     0.41077    0.5540802                \n",
              "14 0.10547                     0.22553    0.1149102                \n",
              "15 0.12275                     0.22202    0.4055502                \n",
              "   gdp_binary   \n",
              "1  Above Average\n",
              "2  Above Average\n",
              "3  Above Average\n",
              "4  Above Average\n",
              "5  Above Average\n",
              "6  Above Average\n",
              "7  Above Average\n",
              "8  Above Average\n",
              "9  Above Average\n",
              "10 Above Average\n",
              "11 Above Average\n",
              "12 Above Average\n",
              "13 Above Average\n",
              "14 Above Average\n",
              "15 Above Average"
            ]
          },
          "metadata": {}
        }
      ]
    },
    {
      "cell_type": "markdown",
      "source": [
        "now we can see if being above or below the mean gdp predicts happiness using a t-test, which will test if the mean difference in happiness between our two groups (above average GDP vs. below average GDP) is statistically significant"
      ],
      "metadata": {
        "id": "6htqa9i6RCGe"
      }
    },
    {
      "cell_type": "code",
      "source": [
        "t.test(x = gdp_binary, y = Happiness_Score, data = happy_dat)"
      ],
      "metadata": {
        "colab": {
          "base_uri": "https://localhost:8080/",
          "height": 108
        },
        "id": "lJpOxDsDRRn1",
        "outputId": "e6409709-ffc1-4c9a-af34-33af61f15d69"
      },
      "execution_count": null,
      "outputs": [
        {
          "output_type": "error",
          "ename": "ERROR",
          "evalue": "Error in eval(expr, envir, enclos): object 'gdp_binary' not found\n",
          "traceback": [
            "Error in eval(expr, envir, enclos): object 'gdp_binary' not found\nTraceback:\n",
            "1. t.test(x = gdp_binary, y = Happiness_Score, data = happy_dat)"
          ]
        }
      ]
    },
    {
      "cell_type": "markdown",
      "source": [
        "hmm, that's not working, let's try getting help"
      ],
      "metadata": {
        "id": "6OMK5-VrVLxT"
      }
    },
    {
      "cell_type": "code",
      "source": [
        "?t.test"
      ],
      "metadata": {
        "id": "IEaAa2EGVQwN"
      },
      "execution_count": null,
      "outputs": []
    },
    {
      "cell_type": "markdown",
      "source": [
        "ok, let's try again"
      ],
      "metadata": {
        "id": "4MIjUYxGVVNl"
      }
    },
    {
      "cell_type": "code",
      "source": [
        "t.test(Happiness_Score ~ gdp_binary, data = happy_dat)"
      ],
      "metadata": {
        "colab": {
          "base_uri": "https://localhost:8080/",
          "height": 213
        },
        "id": "byxGozCAVhhv",
        "outputId": "cde949ae-fe9d-4c23-fc93-b487b4450b1d"
      },
      "execution_count": null,
      "outputs": [
        {
          "output_type": "display_data",
          "data": {
            "text/plain": [
              "\n",
              "\tWelch Two Sample t-test\n",
              "\n",
              "data:  Happiness_Score by gdp_binary\n",
              "t = 11.07, df = 151.76, p-value < 2.2e-16\n",
              "alternative hypothesis: true difference in means between group Above Average and group Below Average is not equal to 0\n",
              "95 percent confidence interval:\n",
              " 1.241929 1.781569\n",
              "sample estimates:\n",
              "mean in group Above Average mean in group Below Average \n",
              "                   6.036955                    4.525206 \n"
            ]
          },
          "metadata": {}
        }
      ]
    },
    {
      "cell_type": "markdown",
      "source": [
        "now let's plot the difference!"
      ],
      "metadata": {
        "id": "E9-TnO8fVmWs"
      }
    },
    {
      "cell_type": "code",
      "source": [
        "ggplot(data = happy_dat, aes(x = gdp_binary, y = Happiness_Score, fill = gdp_binary)) +\n",
        "  geom_bar(stat = \"summary\", fun = \"mean\")"
      ],
      "metadata": {
        "colab": {
          "base_uri": "https://localhost:8080/",
          "height": 437
        },
        "id": "vB_ucvUlVpGm",
        "outputId": "b87d17a0-4ae6-436e-b3c5-5dfd04843cf6"
      },
      "execution_count": null,
      "outputs": [
        {
          "output_type": "display_data",
          "data": {
            "text/plain": [
              "plot without title"
            ],
            "image/png": "[encoded data removed]"
          },
          "metadata": {
            "image/png": {
              "width": 420,
              "height": 420
            }
          }
        }
      ]
    },
    {
      "cell_type": "markdown",
      "source": [
        "now, repeat this process, but pick another variable that isn't GDP!"
      ],
      "metadata": {
        "id": "fgyPrlFyVth-"
      }
    },
    {
      "cell_type": "code",
      "source": [
        "# calculate the mean/average of the variable you want to look at for the sample\n",
        "\n"
      ],
      "metadata": {
        "id": "RApF9njbV69V"
      },
      "execution_count": null,
      "outputs": []
    },
    {
      "cell_type": "code",
      "source": [
        "# subtract the mean from each country -- now having a positive number means your\n",
        "# country is above average in your variable, and a negative number means your country is\n",
        "# below average in your variable\n",
        "\n",
        "\n"
      ],
      "metadata": {
        "id": "WtvIiWorWagH"
      },
      "execution_count": null,
      "outputs": []
    },
    {
      "cell_type": "code",
      "source": [
        "# use this to create a binary variable\n",
        "\n"
      ],
      "metadata": {
        "id": "VBwjSNjGWeu-"
      },
      "execution_count": null,
      "outputs": []
    },
    {
      "cell_type": "code",
      "source": [
        "# run a t-test to see if there is a significant difference between being above\n",
        "# and below average in the variable you chose on happiness\n",
        "\n",
        "\n"
      ],
      "metadata": {
        "id": "eDviYl9YWhxN"
      },
      "execution_count": null,
      "outputs": []
    },
    {
      "cell_type": "code",
      "source": [
        "# plot the outcome of your analysis\n",
        "\n",
        "\n"
      ],
      "metadata": {
        "id": "jNcHHUfHWk_K"
      },
      "execution_count": null,
      "outputs": []
    }
  ]
}